{
 "cells": [
  {
   "cell_type": "code",
   "execution_count": 2,
   "metadata": {},
   "outputs": [],
   "source": [
    "# Gideon Mooijen\n",
    "# 10686290\n",
    "# g.g.a.mooijen@uva.nl\n",
    "# Big Data project"
   ]
  },
  {
   "cell_type": "code",
   "execution_count": null,
   "metadata": {},
   "outputs": [],
   "source": [
    "import csv\n",
    "import random\n",
    "\n",
    "#   500 x 10000 ≈ 10  mb\n",
    "#  1000 x 10000 ≈ 20  mb\n",
    "#  2000 x 10000 ≈ 40  mb\n",
    "#  4000 x 10000 ≈ 80  mb\n",
    "#  8000 x 10000 ≈ 160 mb\n",
    "# 16000 x 10000 ≈ 320 mb\n",
    "# 32000 x 10000 ≈ 640 mb\n",
    "\n",
    "def create_csv(rows,columns,minimum,maximum):\n",
    "    print(\"Making %d records\" % rows)\n",
    "    fieldnames=[]\n",
    "    filename = str(int(rows/50)) + 'mb.csv'\n",
    "    writer = csv.writer(open(filename, \"w\"))\n",
    "    for i in range(0, rows):\n",
    "        print(\"Progress {:1%}\".format(i/rows), end=\"\\r\")\n",
    "        line = []\n",
    "        for i in range(0,columns):\n",
    "            line.append(random.randint(minimum,maximum))\n",
    "        writer.writerow(line)\n",
    "    print(filename,'finished')\n",
    "    print('*********************************\\n')"
   ]
  },
  {
   "cell_type": "code",
   "execution_count": 3,
   "metadata": {},
   "outputs": [
    {
     "name": "stdout",
     "output_type": "stream",
     "text": [
      "Making 18000 records\n",
      "360mb.csv finished%\n",
      "*********************************\n",
      "\n",
      "Making 20000 records\n",
      "400mb.csv finished%\n",
      "*********************************\n",
      "\n",
      "Making 22000 records\n",
      "440mb.csv finished%\n",
      "*********************************\n",
      "\n",
      "Making 24000 records\n",
      "480mb.csv finished%\n",
      "*********************************\n",
      "\n",
      "Making 26000 records\n",
      "520mb.csv finished%\n",
      "*********************************\n",
      "\n",
      "Making 28000 records\n",
      "560mb.csv finished%\n",
      "*********************************\n",
      "\n",
      "Making 30000 records\n",
      "600mb.csv finished%\n",
      "*********************************\n",
      "\n",
      "Making 32000 records\n",
      "640mb.csv finished%\n",
      "*********************************\n",
      "\n"
     ]
    }
   ],
   "source": [
    "starting_size = 18000\n",
    "while starting_size <= 32000:\n",
    "    create_csv(starting_size,10000,1,8)\n",
    "    starting_size += 2000"
   ]
  },
  {
   "cell_type": "code",
   "execution_count": null,
   "metadata": {},
   "outputs": [],
   "source": []
  },
  {
   "cell_type": "code",
   "execution_count": null,
   "metadata": {},
   "outputs": [],
   "source": []
  }
 ],
 "metadata": {
  "kernelspec": {
   "display_name": "Python 3",
   "language": "python",
   "name": "python3"
  },
  "language_info": {
   "codemirror_mode": {
    "name": "ipython",
    "version": 3
   },
   "file_extension": ".py",
   "mimetype": "text/x-python",
   "name": "python",
   "nbconvert_exporter": "python",
   "pygments_lexer": "ipython3",
   "version": "3.7.4"
  }
 },
 "nbformat": 4,
 "nbformat_minor": 2
}
